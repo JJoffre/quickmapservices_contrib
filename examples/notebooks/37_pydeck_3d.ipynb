{
  "cells": [
    {
      "cell_type": "markdown",
      "metadata": {
        "id": "RVgLw1YfBFnz"
      },
      "source": [
        "<a href=\"https://githubtocolab.com/giswqs/geemap/blob/master/examples/notebooks/37_pydeck_3d.ipynb\" target=\"_parent\"><img src=\"https://colab.research.google.com/assets/colab-badge.svg\" alt=\"Open in Colab\"/></a>\n",
        "\n",
        "Uncomment the following line to install [geemap](https://geemap.org) if needed."
      ]
    },
    {
      "cell_type": "code",
      "execution_count": null,
      "metadata": {
        "id": "gcUFCCKaBFn7"
      },
      "outputs": [],
      "source": [
        "#!pip install geemap\n",
        "#!pip install pydeck\n",
        "#!pip install pydeck-earthengine-layers"
      ]
    },
    {
      "cell_type": "markdown",
      "metadata": {
        "id": "RkyT0QXYBFn_"
      },
      "source": [
        "#  How to use Earth Engine with pydeck for 3D terrain visualization\n",
        "Pydeck + Earth Engine: Terrain Visualization\n",
        "\n",
        "**Requirements**\n",
        "\n",
        "- [earthengine-api](https://github.com/google/earthengine-api): a Python client library for calling the Google Earth Engine API.\n",
        "- [pydeck](https://pydeck.gl/index.html): a WebGL-powered framework for visual exploratory data analysis of large datasets.\n",
        "- [pydeck-earthengine-layers](https://github.com/UnfoldedInc/earthengine-layers/tree/master/py): a pydekc wrapper for Google Earth Engine. For documentation please visit this [website](https://earthengine-layers.com/).\n",
        "- [Mapbox API key](https://pydeck.gl/installation.html#getting-a-mapbox-api-key): you will need this add basemap tiles to pydeck.\n",
        "\n",
        "**Installation**\n",
        "\n",
        "- conda create -n deck python\n",
        "- conda activate deck\n",
        "- conda install mamba -c conda-forge\n",
        "- mamba install earthengine-api pydeck pydeck-earthengine-layers -c conda-forge\n",
        "- jupyter nbextension install --sys-prefix --symlink --overwrite --py pydeck\n",
        "- jupyter nbextension enable --sys-prefix --py pydeck"
      ]
    },
    {
      "cell_type": "markdown",
      "metadata": {
        "id": "hec9af88BFoA"
      },
      "source": [
        "This example is adopted from [here](https://github.com/UnfoldedInc/earthengine-layers/blob/master/py/examples/terrain.ipynb). Credits to the developers of the [pydeck-earthengine-layers](https://github.com/UnfoldedInc/earthengine-layers) package. "
      ]
    },
    {
      "cell_type": "markdown",
      "metadata": {
        "id": "V1kzZgTqBFoB"
      },
      "source": [
        "## 2D Visualization"
      ]
    },
    {
      "cell_type": "code",
      "execution_count": 9,
      "metadata": {
        "id": "bgyVEWksBFoC"
      },
      "outputs": [],
      "source": [
        "import ee\n",
        "import geemap"
      ]
    },
    {
      "cell_type": "code",
      "execution_count": 10,
      "metadata": {
        "colab": {
          "base_uri": "https://localhost:8080/",
          "height": 17,
          "referenced_widgets": [
            "c78c253be1334cbf8f79755b211d9a40",
            "5aebf404f0994643a41301a87ec8f869",
            "665ec87bb34a4f5197288264334e1ec4",
            "ac0cbe6f178441f19b2e8fbd5d09c720",
            "358e431a6eaf45ca80f07ebdb666aae9",
            "cf96d8ca46c8408f8c2bce12aafede28",
            "e6c0f2c67b0549b38ff4fd54a2600a70",
            "fce77433c86f4cab894d48b797f1dad3",
            "135c75e14feb41bb88584ec0f05b73b0",
            "c8dff798950c4d2ba4774164d7672cca",
            "002cac3d47f34e328229ab1d0bd79600",
            "fae56ac7610345d79422ee52e5f6827a",
            "60a145f001d64e219ebe63c221127480",
            "ccdb518c63784e59a1ce0ba546c6629f",
            "99afcd58087b41ce8aa6d34d539d9783",
            "50c176ef19f346fa98f83f63e9e56196",
            "226244df33724db8a6e7599f0ef6fd8c",
            "a1ea80b7cb194f91a6fee6d5d5433e6f",
            "37939cf23cad45a0a85400f875e40227",
            "4b4c9752537048c1bb52a8424c12629b",
            "20c1dbee57424e72a7b191c996257109",
            "c5963d99ccc747be97bc7ccc108dd971",
            "90d15c294446444d892aed12799bcbb8",
            "4e8f6922f2574bef8078e93221335b61",
            "26abe59b468b4a0cb4f8ee9b9f56d524"
          ]
        },
        "id": "WARTTtPgBFoD",
        "outputId": "b27a2033-3155-4223-994b-33a278a3d5ec"
      },
      "outputs": [
        {
          "output_type": "display_data",
          "data": {
            "application/vnd.jupyter.widget-view+json": {
              "model_id": "c78c253be1334cbf8f79755b211d9a40",
              "version_minor": 0,
              "version_major": 2
            },
            "text/plain": [
              "Map(center=[40, -100], controls=(WidgetControl(options=['position', 'transparent_bg'], widget=HBox(children=(T…"
            ]
          },
          "metadata": {
            "application/vnd.jupyter.widget-view+json": {
              "colab": {
                "custom_widget_manager": {
                  "url": "https://ssl.gstatic.com/colaboratory-static/widgets/colab-cdn-widget-manager/a8874ba6619b6106/manager.min.js"
                }
              }
            }
          }
        }
      ],
      "source": [
        "Map = geemap.Map()\n",
        "Map"
      ]
    },
    {
      "cell_type": "code",
      "execution_count": 11,
      "metadata": {
        "id": "TZNzkwVDBFoE"
      },
      "outputs": [],
      "source": [
        "image = ee.Image('USGS/NED').select('elevation')\n",
        "vis_params={\n",
        "    \"min\": 0, \n",
        "    \"max\": 4000,\n",
        "    \"palette\": ['006633', 'E5FFCC', '662A00', 'D8D8D8', 'F5F5F5']\n",
        "}\n",
        "Map.addLayer(image, vis_params, 'NED')"
      ]
    },
    {
      "cell_type": "markdown",
      "metadata": {
        "id": "c8h0RX5ABFoF"
      },
      "source": [
        "## 3D Visualization\n",
        "\n",
        "### Import libraries"
      ]
    },
    {
      "cell_type": "markdown",
      "metadata": {
        "id": "UUiHjyTOBFoG"
      },
      "source": [
        "First, import required packages. Note that here we import the `EarthEngineTerrainLayer` instead of the `EarthEngineLayer`."
      ]
    },
    {
      "cell_type": "code",
      "execution_count": 17,
      "metadata": {
        "id": "OClZhWBbBFoH"
      },
      "outputs": [],
      "source": [
        "import ee\n",
        "import pydeck as pdk\n",
        "from pydeck_earthengine_layers import EarthEngineTerrainLayer"
      ]
    },
    {
      "cell_type": "markdown",
      "metadata": {
        "id": "apmdsmviBFoI"
      },
      "source": [
        "### Authenticate with Earth Engine\n",
        "\n",
        "Using Earth Engine requires authentication. If you don't have a Google account approved for use with Earth Engine, you'll need to request access. For more information and to sign up, go to https://signup.earthengine.google.com/."
      ]
    },
    {
      "cell_type": "code",
      "execution_count": 18,
      "metadata": {
        "scrolled": true,
        "id": "DprEI9aNBFoJ"
      },
      "outputs": [],
      "source": [
        "try:\n",
        "    ee.Initialize()\n",
        "except Exception as e:\n",
        "    ee.Authenticate()\n",
        "    ee.Initialize()"
      ]
    },
    {
      "cell_type": "markdown",
      "metadata": {
        "id": "P5W2NrFGBFoJ"
      },
      "source": [
        "### Terrain Example\n",
        "\n",
        "In contrast to the `EarthEngineLayer`, where you need to supply _one_ Earth Engine object to render, with the `EarthEngineTerrainLayer` you must supply **two** Earth Engine objects. The first is used to render the image in the same way as the `EarthEngineLayer`; the second supplies elevation values used to extrude terrain in 3D. Hence the former can be any `Image` object; the latter must be an `Image` object whose values represents terrain heights.\n",
        "\n",
        "It's important for the terrain source to have relatively high spatial resolution. In previous examples, we used [SRTM90][srtm90] as an elevation source, but that only has a resolution of 90 meters. When used as an elevation source, it looks very blocky/pixelated at high zoom levels. In this example we'll use [SRTM30][srtm30] (30-meter resolution) as the `Image` source and the [USGS's National Elevation Dataset][ned] (10-meter resolution, U.S. only) as the terrain source. SRTM30 is generally the best-resolution worldwide data source available.\n",
        "\n",
        "[srtm90]: https://developers.google.com/earth-engine/datasets/catalog/CGIAR_SRTM90_V4\n",
        "[srtm30]: https://developers.google.com/earth-engine/datasets/catalog/USGS_SRTMGL1_003\n",
        "[ned]: https://developers.google.com/earth-engine/datasets/catalog/USGS_NED"
      ]
    },
    {
      "cell_type": "code",
      "execution_count": 19,
      "metadata": {
        "id": "cYh-LwxIBFoL"
      },
      "outputs": [],
      "source": [
        "# image = ee.Image('USGS/SRTMGL1_003')\n",
        "image = ee.Image('USGS/NED').select('elevation')\n",
        "terrain = ee.Image('USGS/NED').select('elevation')"
      ]
    },
    {
      "cell_type": "markdown",
      "metadata": {
        "id": "tZfyEPVwBFoL"
      },
      "source": [
        "Here `vis_params` consists of parameters that will be passed to the Earth Engine [`visParams` argument][visparams]. Any parameters that you could pass directly to Earth Engine in the code editor, you can also pass here to the `EarthEngineLayer`.\n",
        "\n",
        "[visparams]: https://developers.google.com/earth-engine/image_visualization"
      ]
    },
    {
      "cell_type": "code",
      "execution_count": 20,
      "metadata": {
        "id": "R1eByPZdBFoM"
      },
      "outputs": [],
      "source": [
        "vis_params={\n",
        "    \"min\": 0, \n",
        "    \"max\": 4000,\n",
        "    \"palette\": ['006633', 'E5FFCC', '662A00', 'D8D8D8', 'F5F5F5']\n",
        "}"
      ]
    },
    {
      "cell_type": "markdown",
      "metadata": {
        "id": "bBl6UdlFBFoN"
      },
      "source": [
        "Now we're ready to create the Pydeck layer. The `EarthEngineLayer` makes this simple. Just pass the Earth Engine object to the class."
      ]
    },
    {
      "cell_type": "markdown",
      "metadata": {
        "id": "d37fc2HkBFoN"
      },
      "source": [
        "Including the `id` argument isn't necessary when you only have one pydeck layer, but it is necessary to distinguish multiple layers, so it's good to get into the habit of including an `id` parameter."
      ]
    },
    {
      "cell_type": "code",
      "execution_count": 21,
      "metadata": {
        "id": "6JSFOXwXBFoO"
      },
      "outputs": [],
      "source": [
        "ee_layer = EarthEngineTerrainLayer(\n",
        "    image,\n",
        "    terrain,\n",
        "    vis_params,\n",
        "    id=\"EETerrainLayer\"\n",
        ")"
      ]
    },
    {
      "cell_type": "markdown",
      "metadata": {
        "id": "5rZiq4FPBFoO"
      },
      "source": [
        "Then just pass this layer to a `pydeck.Deck` instance, and call `.show()` to create a map:"
      ]
    },
    {
      "cell_type": "code",
      "execution_count": 23,
      "metadata": {
        "colab": {
          "base_uri": "https://localhost:8080/",
          "height": 17,
          "referenced_widgets": [
            "4be3f74aa3cf4400a82a0863db361c28"
          ]
        },
        "id": "0t-1xZBRBFoP",
        "outputId": "14f07f1b-52e2-4f6c-fa0d-30afee75dcbc"
      },
      "outputs": [
        {
          "output_type": "display_data",
          "data": {
            "application/vnd.jupyter.widget-view+json": {
              "model_id": "4be3f74aa3cf4400a82a0863db361c28",
              "version_minor": 0,
              "version_major": 2
            },
            "text/plain": [
              "DeckGLWidget(carto_key=None, custom_libraries=[{'libraryName': 'EarthEngineLayerLibrary', 'resourceUri': 'http…"
            ]
          },
          "metadata": {
            "application/vnd.jupyter.widget-view+json": {
              "colab": {
                "custom_widget_manager": {
                  "url": "https://ssl.gstatic.com/colaboratory-static/widgets/colab-cdn-widget-manager/a8874ba6619b6106/manager.min.js"
                }
              }
            }
          }
        }
      ],
      "source": [
        "view_state = pdk.ViewState(\n",
        "    latitude=36.15,\n",
        "    longitude=-111.96,\n",
        "    zoom=10.5, \n",
        "    bearing=-66.16,\n",
        "    pitch=60)\n",
        "\n",
        "r = pdk.Deck(\n",
        "    layers=[ee_layer], \n",
        "    initial_view_state=view_state\n",
        ")\n",
        "\n",
        "r.show()"
      ]
    },
    {
      "cell_type": "code",
      "source": [
        ""
      ],
      "metadata": {
        "id": "DE-Iku94H91w"
      },
      "execution_count": null,
      "outputs": []
    }
  ],
  "metadata": {
    "hide_input": false,
    "kernelspec": {
      "display_name": "Python 3",
      "language": "python",
      "name": "python3"
    },
    "language_info": {
      "codemirror_mode": {
        "name": "ipython",
        "version": 3
      },
      "file_extension": ".py",
      "mimetype": "text/x-python",
      "name": "python",
      "nbconvert_exporter": "python",
      "pygments_lexer": "ipython3",
      "version": "3.8.5"
    },
    "toc": {
      "base_numbering": 1,
      "nav_menu": {},
      "number_sections": true,
      "sideBar": true,
      "skip_h1_title": true,
      "title_cell": "Table of Contents",
      "title_sidebar": "Table of Contents",
      "toc_cell": false,
      "toc_position": {},
      "toc_section_display": true,
      "toc_window_display": false
    },
    "varInspector": {
      "cols": {
        "lenName": 16,
        "lenType": 16,
        "lenVar": 40
      },
      "kernels_config": {
        "python": {
          "delete_cmd_postfix": "",
          "delete_cmd_prefix": "del ",
          "library": "var_list.py",
          "varRefreshCmd": "print(var_dic_list())"
        },
        "r": {
          "delete_cmd_postfix": ") ",
          "delete_cmd_prefix": "rm(",
          "library": "var_list.r",
          "varRefreshCmd": "cat(var_dic_list()) "
        }
      },
      "types_to_exclude": [
        "module",
        "function",
        "builtin_function_or_method",
        "instance",
        "_Feature"
      ],
      "window_display": false
    },
    "colab": {
      "name": "37_pydeck_3d.ipynb",
      "provenance": []
    },
    "widgets": {
      "application/vnd.jupyter.widget-state+json": {
        "c78c253be1334cbf8f79755b211d9a40": {
          "model_module": "jupyter-leaflet",
          "model_name": "LeafletMapModel",
          "model_module_version": "^0.14.0",
          "state": {
            "_view_name": "LeafletMapView",
            "keyboard_pan_offset": 80,
            "right": 0,
            "tap": true,
            "_view_module": "jupyter-leaflet",
            "max_zoom": 24,
            "_model_module_version": "^0.14.0",
            "_view_count": null,
            "zoom_snap": 1,
            "min_zoom": 1,
            "bounce_at_zoom_limits": true,
            "keyboard": true,
            "north": 0,
            "scroll_wheel_zoom": true,
            "dragging": true,
            "_model_module": "jupyter-leaflet",
            "zoom_delta": 1,
            "close_popup_on_click": true,
            "fullscreen": false,
            "style": "IPY_MODEL_5aebf404f0994643a41301a87ec8f869",
            "layout": "IPY_MODEL_665ec87bb34a4f5197288264334e1ec4",
            "bottom": 0,
            "inertia_max_speed": 1500,
            "top": 9007199254740991,
            "box_zoom": true,
            "controls": [
              "IPY_MODEL_ac0cbe6f178441f19b2e8fbd5d09c720",
              "IPY_MODEL_358e431a6eaf45ca80f07ebdb666aae9",
              "IPY_MODEL_cf96d8ca46c8408f8c2bce12aafede28",
              "IPY_MODEL_e6c0f2c67b0549b38ff4fd54a2600a70",
              "IPY_MODEL_fce77433c86f4cab894d48b797f1dad3",
              "IPY_MODEL_135c75e14feb41bb88584ec0f05b73b0",
              "IPY_MODEL_c8dff798950c4d2ba4774164d7672cca",
              "IPY_MODEL_002cac3d47f34e328229ab1d0bd79600"
            ],
            "default_style": "IPY_MODEL_fae56ac7610345d79422ee52e5f6827a",
            "east": 0,
            "double_click_zoom": true,
            "interpolation": "bilinear",
            "layers": [
              "IPY_MODEL_60a145f001d64e219ebe63c221127480",
              "IPY_MODEL_ccdb518c63784e59a1ce0ba546c6629f",
              "IPY_MODEL_895aec32113146d7ad9443300f312f25"
            ],
            "dragging_style": "IPY_MODEL_99afcd58087b41ce8aa6d34d539d9783",
            "_dom_classes": [],
            "zoom_animation_threshold": 4,
            "_model_name": "LeafletMapModel",
            "zoom_start": 12,
            "modisdate": "yesterday",
            "keyboard_zoom_offset": 1,
            "inertia_deceleration": 3000,
            "inertia": true,
            "crs": {
              "name": "EPSG3857",
              "custom": false
            },
            "center": [
              40,
              -100
            ],
            "zoom": 4,
            "world_copy_jump": false,
            "_view_module_version": "^0.14.0",
            "window_url": "",
            "tap_tolerance": 15,
            "west": 0,
            "touch_zoom": true,
            "options": [
              "bounce_at_zoom_limits",
              "box_zoom",
              "center",
              "close_popup_on_click",
              "double_click_zoom",
              "dragging",
              "fullscreen",
              "inertia",
              "inertia_deceleration",
              "inertia_max_speed",
              "interpolation",
              "keyboard",
              "keyboard_pan_offset",
              "keyboard_zoom_offset",
              "max_zoom",
              "min_zoom",
              "scroll_wheel_zoom",
              "tap",
              "tap_tolerance",
              "touch_zoom",
              "world_copy_jump",
              "zoom",
              "zoom_animation_threshold",
              "zoom_delta",
              "zoom_snap",
              "zoom_start"
            ],
            "south": 0,
            "left": 9007199254740991
          }
        },
        "5aebf404f0994643a41301a87ec8f869": {
          "model_module": "jupyter-leaflet",
          "model_name": "LeafletMapStyleModel",
          "model_module_version": "^0.14.0",
          "state": {
            "_view_name": "StyleView",
            "_model_name": "LeafletMapStyleModel",
            "_view_module": "@jupyter-widgets/base",
            "_model_module_version": "^0.14.0",
            "_view_count": null,
            "cursor": "grab",
            "_view_module_version": "1.2.0",
            "_model_module": "jupyter-leaflet"
          }
        },
        "665ec87bb34a4f5197288264334e1ec4": {
          "model_module": "@jupyter-widgets/base",
          "model_name": "LayoutModel",
          "model_module_version": "1.2.0",
          "state": {
            "_view_name": "LayoutView",
            "grid_template_rows": null,
            "right": null,
            "justify_content": null,
            "_view_module": "@jupyter-widgets/base",
            "overflow": null,
            "_model_module_version": "1.2.0",
            "_view_count": null,
            "flex_flow": null,
            "width": null,
            "min_width": null,
            "border": null,
            "align_items": null,
            "bottom": null,
            "_model_module": "@jupyter-widgets/base",
            "top": null,
            "grid_column": null,
            "overflow_y": null,
            "overflow_x": null,
            "grid_auto_flow": null,
            "grid_area": null,
            "grid_template_columns": null,
            "flex": null,
            "_model_name": "LayoutModel",
            "justify_items": null,
            "grid_row": null,
            "max_height": null,
            "align_content": null,
            "visibility": null,
            "align_self": null,
            "height": "600px",
            "min_height": null,
            "padding": null,
            "grid_auto_rows": null,
            "grid_gap": null,
            "max_width": null,
            "order": null,
            "_view_module_version": "1.2.0",
            "grid_template_areas": null,
            "object_position": null,
            "object_fit": null,
            "grid_auto_columns": null,
            "margin": null,
            "display": null,
            "left": null
          }
        },
        "ac0cbe6f178441f19b2e8fbd5d09c720": {
          "model_module": "jupyter-leaflet",
          "model_name": "LeafletWidgetControlModel",
          "model_module_version": "^0.14.0",
          "state": {
            "_view_name": "LeafletWidgetControlView",
            "widget": "IPY_MODEL_50c176ef19f346fa98f83f63e9e56196",
            "_model_name": "LeafletWidgetControlModel",
            "_view_module": "jupyter-leaflet",
            "_model_module_version": "^0.14.0",
            "max_height": null,
            "_view_count": null,
            "min_height": null,
            "_view_module_version": "^0.14.0",
            "max_width": null,
            "transparent_bg": false,
            "min_width": null,
            "position": "topleft",
            "_model_module": "jupyter-leaflet",
            "options": [
              "position",
              "transparent_bg"
            ]
          }
        },
        "358e431a6eaf45ca80f07ebdb666aae9": {
          "model_module": "jupyter-leaflet",
          "model_name": "LeafletZoomControlModel",
          "model_module_version": "^0.14.0",
          "state": {
            "_view_name": "LeafletZoomControlView",
            "zoom_in_title": "Zoom in",
            "_model_name": "LeafletZoomControlModel",
            "_view_module": "jupyter-leaflet",
            "_model_module_version": "^0.14.0",
            "_view_count": null,
            "_view_module_version": "^0.14.0",
            "zoom_out_title": "Zoom out",
            "position": "topleft",
            "zoom_in_text": "+",
            "_model_module": "jupyter-leaflet",
            "options": [
              "position",
              "zoom_in_text",
              "zoom_in_title",
              "zoom_out_text",
              "zoom_out_title"
            ],
            "zoom_out_text": "-"
          }
        },
        "cf96d8ca46c8408f8c2bce12aafede28": {
          "model_module": "jupyter-leaflet",
          "model_name": "LeafletScaleControlModel",
          "model_module_version": "^0.14.0",
          "state": {
            "_view_name": "LeafletScaleControlView",
            "_model_name": "LeafletScaleControlModel",
            "metric": true,
            "_view_module": "jupyter-leaflet",
            "_model_module_version": "^0.14.0",
            "max_width": 100,
            "_view_count": null,
            "_view_module_version": "^0.14.0",
            "update_when_idle": false,
            "position": "bottomleft",
            "imperial": true,
            "_model_module": "jupyter-leaflet",
            "options": [
              "imperial",
              "max_width",
              "metric",
              "position",
              "update_when_idle"
            ]
          }
        },
        "e6c0f2c67b0549b38ff4fd54a2600a70": {
          "model_module": "jupyter-leaflet",
          "model_name": "LeafletFullScreenControlModel",
          "model_module_version": "^0.14.0",
          "state": {
            "_view_name": "LeafletFullScreenControlView",
            "_model_name": "LeafletFullScreenControlModel",
            "_view_module": "jupyter-leaflet",
            "_model_module_version": "^0.14.0",
            "_view_count": null,
            "_view_module_version": "^0.14.0",
            "position": "topleft",
            "_model_module": "jupyter-leaflet",
            "options": [
              "position"
            ]
          }
        },
        "fce77433c86f4cab894d48b797f1dad3": {
          "model_module": "jupyter-leaflet",
          "model_name": "LeafletMeasureControlModel",
          "model_module_version": "^0.14.0",
          "state": {
            "_view_name": "LeafletMeasureControlView",
            "primary_area_unit": "acres",
            "capture_z_index": 10000,
            "secondary_area_unit": null,
            "primary_length_unit": "kilometers",
            "active_color": "orange",
            "_model_name": "LeafletMeasureControlModel",
            "popup_options": {
              "className": "leaflet-measure-resultpopup",
              "autoPanPadding": [
                10,
                10
              ]
            },
            "_view_module": "jupyter-leaflet",
            "_model_module_version": "^0.14.0",
            "_view_count": null,
            "_view_module_version": "^0.14.0",
            "secondary_length_unit": null,
            "completed_color": "#C8F2BE",
            "position": "bottomleft",
            "_model_module": "jupyter-leaflet",
            "options": [
              "active_color",
              "capture_z_index",
              "completed_color",
              "popup_options",
              "position",
              "primary_area_unit",
              "primary_length_unit",
              "secondary_area_unit",
              "secondary_length_unit"
            ],
            "_custom_units": {}
          }
        },
        "135c75e14feb41bb88584ec0f05b73b0": {
          "model_module": "jupyter-leaflet",
          "model_name": "LeafletAttributionControlModel",
          "model_module_version": "^0.14.0",
          "state": {
            "_view_name": "LeafletAttributionControlView",
            "prefix": "ipyleaflet",
            "_model_name": "LeafletAttributionControlModel",
            "_view_module": "jupyter-leaflet",
            "_model_module_version": "^0.14.0",
            "_view_count": null,
            "_view_module_version": "^0.14.0",
            "position": "bottomright",
            "_model_module": "jupyter-leaflet",
            "options": [
              "position",
              "prefix"
            ]
          }
        },
        "c8dff798950c4d2ba4774164d7672cca": {
          "model_module": "jupyter-leaflet",
          "model_name": "LeafletDrawControlModel",
          "model_module_version": "^0.14.0",
          "state": {
            "_view_name": "LeafletDrawControlView",
            "polygon": {
              "shapeOptions": {}
            },
            "circlemarker": {},
            "_model_name": "LeafletDrawControlModel",
            "edit": true,
            "data": [],
            "_view_module": "jupyter-leaflet",
            "_model_module_version": "^0.14.0",
            "remove": true,
            "_view_count": null,
            "_view_module_version": "^0.14.0",
            "polyline": {
              "shapeOptions": {}
            },
            "marker": {
              "shapeOptions": {
                "color": "#3388ff"
              }
            },
            "position": "topleft",
            "circle": {
              "shapeOptions": {
                "color": "#3388ff"
              }
            },
            "_model_module": "jupyter-leaflet",
            "options": [
              "position"
            ],
            "rectangle": {
              "shapeOptions": {
                "color": "#3388ff"
              }
            }
          }
        },
        "002cac3d47f34e328229ab1d0bd79600": {
          "model_module": "jupyter-leaflet",
          "model_name": "LeafletWidgetControlModel",
          "model_module_version": "^0.14.0",
          "state": {
            "_view_name": "LeafletWidgetControlView",
            "widget": "IPY_MODEL_226244df33724db8a6e7599f0ef6fd8c",
            "_model_name": "LeafletWidgetControlModel",
            "_view_module": "jupyter-leaflet",
            "_model_module_version": "^0.14.0",
            "max_height": null,
            "_view_count": null,
            "min_height": null,
            "_view_module_version": "^0.14.0",
            "max_width": null,
            "transparent_bg": false,
            "min_width": null,
            "position": "topright",
            "_model_module": "jupyter-leaflet",
            "options": [
              "position",
              "transparent_bg"
            ]
          }
        },
        "fae56ac7610345d79422ee52e5f6827a": {
          "model_module": "jupyter-leaflet",
          "model_name": "LeafletMapStyleModel",
          "model_module_version": "^0.14.0",
          "state": {
            "_view_name": "StyleView",
            "_model_name": "LeafletMapStyleModel",
            "_view_module": "@jupyter-widgets/base",
            "_model_module_version": "^0.14.0",
            "_view_count": null,
            "cursor": "grab",
            "_view_module_version": "1.2.0",
            "_model_module": "jupyter-leaflet"
          }
        },
        "60a145f001d64e219ebe63c221127480": {
          "model_module": "jupyter-leaflet",
          "model_name": "LeafletTileLayerModel",
          "model_module_version": "^0.14.0",
          "state": {
            "_view_name": "LeafletTileLayerView",
            "_view_module": "jupyter-leaflet",
            "max_zoom": 19,
            "_model_module_version": "^0.14.0",
            "_view_count": null,
            "visible": true,
            "min_zoom": 1,
            "tms": false,
            "_model_module": "jupyter-leaflet",
            "loading": false,
            "bottom": true,
            "no_wrap": false,
            "tile_size": 256,
            "popup_min_width": 50,
            "opacity": 1,
            "popup": null,
            "attribution": "Map data (c) <a href=\"https://openstreetmap.org\">OpenStreetMap</a> contributors",
            "_model_name": "LeafletTileLayerModel",
            "max_native_zoom": 18,
            "base": true,
            "min_native_zoom": 0,
            "show_loading": false,
            "name": "",
            "url": "https://{s}.tile.openstreetmap.org/{z}/{x}/{y}.png",
            "popup_max_height": null,
            "popup_max_width": 300,
            "detect_retina": false,
            "_view_module_version": "^0.14.0",
            "options": [
              "attribution",
              "detect_retina",
              "max_native_zoom",
              "max_zoom",
              "min_native_zoom",
              "min_zoom",
              "no_wrap",
              "tile_size",
              "tms"
            ]
          }
        },
        "99afcd58087b41ce8aa6d34d539d9783": {
          "model_module": "jupyter-leaflet",
          "model_name": "LeafletMapStyleModel",
          "model_module_version": "^0.14.0",
          "state": {
            "_view_name": "StyleView",
            "_model_name": "LeafletMapStyleModel",
            "_view_module": "@jupyter-widgets/base",
            "_model_module_version": "^0.14.0",
            "_view_count": null,
            "cursor": "move",
            "_view_module_version": "1.2.0",
            "_model_module": "jupyter-leaflet"
          }
        },
        "50c176ef19f346fa98f83f63e9e56196": {
          "model_module": "@jupyter-widgets/controls",
          "model_name": "HBoxModel",
          "model_module_version": "1.5.0",
          "state": {
            "_view_name": "HBoxView",
            "_dom_classes": [],
            "_model_name": "HBoxModel",
            "_view_module": "@jupyter-widgets/controls",
            "_model_module_version": "1.5.0",
            "_view_count": null,
            "_view_module_version": "1.5.0",
            "box_style": "",
            "layout": "IPY_MODEL_a1ea80b7cb194f91a6fee6d5d5433e6f",
            "_model_module": "@jupyter-widgets/controls",
            "children": [
              "IPY_MODEL_37939cf23cad45a0a85400f875e40227"
            ]
          }
        },
        "226244df33724db8a6e7599f0ef6fd8c": {
          "model_module": "@jupyter-widgets/controls",
          "model_name": "VBoxModel",
          "model_module_version": "1.5.0",
          "state": {
            "_view_name": "VBoxView",
            "_dom_classes": [],
            "_model_name": "VBoxModel",
            "_view_module": "@jupyter-widgets/controls",
            "_model_module_version": "1.5.0",
            "_view_count": null,
            "_view_module_version": "1.5.0",
            "box_style": "",
            "layout": "IPY_MODEL_4b4c9752537048c1bb52a8424c12629b",
            "_model_module": "@jupyter-widgets/controls",
            "children": [
              "IPY_MODEL_20c1dbee57424e72a7b191c996257109"
            ]
          }
        },
        "a1ea80b7cb194f91a6fee6d5d5433e6f": {
          "model_module": "@jupyter-widgets/base",
          "model_name": "LayoutModel",
          "model_module_version": "1.2.0",
          "state": {
            "_view_name": "LayoutView",
            "grid_template_rows": null,
            "right": null,
            "justify_content": null,
            "_view_module": "@jupyter-widgets/base",
            "overflow": null,
            "_model_module_version": "1.2.0",
            "_view_count": null,
            "flex_flow": null,
            "width": null,
            "min_width": null,
            "border": null,
            "align_items": null,
            "bottom": null,
            "_model_module": "@jupyter-widgets/base",
            "top": null,
            "grid_column": null,
            "overflow_y": null,
            "overflow_x": null,
            "grid_auto_flow": null,
            "grid_area": null,
            "grid_template_columns": null,
            "flex": null,
            "_model_name": "LayoutModel",
            "justify_items": null,
            "grid_row": null,
            "max_height": null,
            "align_content": null,
            "visibility": null,
            "align_self": null,
            "height": null,
            "min_height": null,
            "padding": null,
            "grid_auto_rows": null,
            "grid_gap": null,
            "max_width": null,
            "order": null,
            "_view_module_version": "1.2.0",
            "grid_template_areas": null,
            "object_position": null,
            "object_fit": null,
            "grid_auto_columns": null,
            "margin": null,
            "display": null,
            "left": null
          }
        },
        "37939cf23cad45a0a85400f875e40227": {
          "model_module": "@jupyter-widgets/controls",
          "model_name": "ToggleButtonModel",
          "model_module_version": "1.5.0",
          "state": {
            "_view_name": "ToggleButtonView",
            "style": "IPY_MODEL_c5963d99ccc747be97bc7ccc108dd971",
            "_dom_classes": [],
            "description": "",
            "_model_name": "ToggleButtonModel",
            "button_style": "",
            "_view_module": "@jupyter-widgets/controls",
            "_model_module_version": "1.5.0",
            "tooltip": "Search location/data",
            "_view_count": null,
            "disabled": false,
            "_view_module_version": "1.5.0",
            "value": false,
            "description_tooltip": null,
            "_model_module": "@jupyter-widgets/controls",
            "layout": "IPY_MODEL_90d15c294446444d892aed12799bcbb8",
            "icon": "globe"
          }
        },
        "4b4c9752537048c1bb52a8424c12629b": {
          "model_module": "@jupyter-widgets/base",
          "model_name": "LayoutModel",
          "model_module_version": "1.2.0",
          "state": {
            "_view_name": "LayoutView",
            "grid_template_rows": null,
            "right": null,
            "justify_content": null,
            "_view_module": "@jupyter-widgets/base",
            "overflow": null,
            "_model_module_version": "1.2.0",
            "_view_count": null,
            "flex_flow": null,
            "width": null,
            "min_width": null,
            "border": null,
            "align_items": null,
            "bottom": null,
            "_model_module": "@jupyter-widgets/base",
            "top": null,
            "grid_column": null,
            "overflow_y": null,
            "overflow_x": null,
            "grid_auto_flow": null,
            "grid_area": null,
            "grid_template_columns": null,
            "flex": null,
            "_model_name": "LayoutModel",
            "justify_items": null,
            "grid_row": null,
            "max_height": null,
            "align_content": null,
            "visibility": null,
            "align_self": null,
            "height": null,
            "min_height": null,
            "padding": null,
            "grid_auto_rows": null,
            "grid_gap": null,
            "max_width": null,
            "order": null,
            "_view_module_version": "1.2.0",
            "grid_template_areas": null,
            "object_position": null,
            "object_fit": null,
            "grid_auto_columns": null,
            "margin": null,
            "display": null,
            "left": null
          }
        },
        "20c1dbee57424e72a7b191c996257109": {
          "model_module": "@jupyter-widgets/controls",
          "model_name": "ToggleButtonModel",
          "model_module_version": "1.5.0",
          "state": {
            "_view_name": "ToggleButtonView",
            "style": "IPY_MODEL_4e8f6922f2574bef8078e93221335b61",
            "_dom_classes": [],
            "description": "",
            "_model_name": "ToggleButtonModel",
            "button_style": "",
            "_view_module": "@jupyter-widgets/controls",
            "_model_module_version": "1.5.0",
            "tooltip": "Toolbar",
            "_view_count": null,
            "disabled": false,
            "_view_module_version": "1.5.0",
            "value": false,
            "description_tooltip": null,
            "_model_module": "@jupyter-widgets/controls",
            "layout": "IPY_MODEL_26abe59b468b4a0cb4f8ee9b9f56d524",
            "icon": "wrench"
          }
        },
        "c5963d99ccc747be97bc7ccc108dd971": {
          "model_module": "@jupyter-widgets/controls",
          "model_name": "DescriptionStyleModel",
          "model_module_version": "1.5.0",
          "state": {
            "_view_name": "StyleView",
            "_model_name": "DescriptionStyleModel",
            "description_width": "",
            "_view_module": "@jupyter-widgets/base",
            "_model_module_version": "1.5.0",
            "_view_count": null,
            "_view_module_version": "1.2.0",
            "_model_module": "@jupyter-widgets/controls"
          }
        },
        "90d15c294446444d892aed12799bcbb8": {
          "model_module": "@jupyter-widgets/base",
          "model_name": "LayoutModel",
          "model_module_version": "1.2.0",
          "state": {
            "_view_name": "LayoutView",
            "grid_template_rows": null,
            "right": null,
            "justify_content": null,
            "_view_module": "@jupyter-widgets/base",
            "overflow": null,
            "_model_module_version": "1.2.0",
            "_view_count": null,
            "flex_flow": null,
            "width": "28px",
            "min_width": null,
            "border": null,
            "align_items": null,
            "bottom": null,
            "_model_module": "@jupyter-widgets/base",
            "top": null,
            "grid_column": null,
            "overflow_y": null,
            "overflow_x": null,
            "grid_auto_flow": null,
            "grid_area": null,
            "grid_template_columns": null,
            "flex": null,
            "_model_name": "LayoutModel",
            "justify_items": null,
            "grid_row": null,
            "max_height": null,
            "align_content": null,
            "visibility": null,
            "align_self": null,
            "height": "28px",
            "min_height": null,
            "padding": "0px 0px 0px 4px",
            "grid_auto_rows": null,
            "grid_gap": null,
            "max_width": null,
            "order": null,
            "_view_module_version": "1.2.0",
            "grid_template_areas": null,
            "object_position": null,
            "object_fit": null,
            "grid_auto_columns": null,
            "margin": null,
            "display": null,
            "left": null
          }
        },
        "4e8f6922f2574bef8078e93221335b61": {
          "model_module": "@jupyter-widgets/controls",
          "model_name": "DescriptionStyleModel",
          "model_module_version": "1.5.0",
          "state": {
            "_view_name": "StyleView",
            "_model_name": "DescriptionStyleModel",
            "description_width": "",
            "_view_module": "@jupyter-widgets/base",
            "_model_module_version": "1.5.0",
            "_view_count": null,
            "_view_module_version": "1.2.0",
            "_model_module": "@jupyter-widgets/controls"
          }
        },
        "26abe59b468b4a0cb4f8ee9b9f56d524": {
          "model_module": "@jupyter-widgets/base",
          "model_name": "LayoutModel",
          "model_module_version": "1.2.0",
          "state": {
            "_view_name": "LayoutView",
            "grid_template_rows": null,
            "right": null,
            "justify_content": null,
            "_view_module": "@jupyter-widgets/base",
            "overflow": null,
            "_model_module_version": "1.2.0",
            "_view_count": null,
            "flex_flow": null,
            "width": "28px",
            "min_width": null,
            "border": null,
            "align_items": null,
            "bottom": null,
            "_model_module": "@jupyter-widgets/base",
            "top": null,
            "grid_column": null,
            "overflow_y": null,
            "overflow_x": null,
            "grid_auto_flow": null,
            "grid_area": null,
            "grid_template_columns": null,
            "flex": null,
            "_model_name": "LayoutModel",
            "justify_items": null,
            "grid_row": null,
            "max_height": null,
            "align_content": null,
            "visibility": null,
            "align_self": null,
            "height": "28px",
            "min_height": null,
            "padding": "0px 0px 0px 4px",
            "grid_auto_rows": null,
            "grid_gap": null,
            "max_width": null,
            "order": null,
            "_view_module_version": "1.2.0",
            "grid_template_areas": null,
            "object_position": null,
            "object_fit": null,
            "grid_auto_columns": null,
            "margin": null,
            "display": null,
            "left": null
          }
        },
        "4be3f74aa3cf4400a82a0863db361c28": {
          "model_module": "@deck.gl/jupyter-widget",
          "model_name": "JupyterTransportModel",
          "model_module_version": "~8.5.*",
          "state": {
            "_view_name": "JupyterTransportView",
            "mapbox_key": null,
            "data_buffer": null,
            "_dom_classes": [],
            "custom_libraries": [
              {
                "resourceUri": "https://unpkg.com/@unfolded.gl/earthengine-layers@1.2.1/dist/pydeck_layer_module.min.js",
                "libraryName": "EarthEngineLayerLibrary"
              }
            ],
            "_model_name": "JupyterTransportModel",
            "carto_key": null,
            "json_input": "{\"initialViewState\": {\"bearing\": -66.16, \"latitude\": 36.15, \"longitude\": -111.96, \"pitch\": 60, \"zoom\": 10.5}, \"layers\": [{\"@@type\": \"EarthEngineTerrainLayer\", \"_token\": \"ya29.a0ARrdaM-AYOjVHp8QfrvcHiGptm20GI1HXlnYWSculdy43U1LwOX0iSjtufalkg5RABPwCuizft3fFDEku6ItpV5DGXToNmMABcI3GyZSDFFOnHXvgM8yRP7XWbGpJZ5wkuzfT_oT6ydsSIBlqtnZNl2oNJ2Re0rEdY5D\", \"eeObject\": \"{\\\"result\\\": \\\"0\\\", \\\"values\\\": {\\\"0\\\": {\\\"functionInvocationValue\\\": {\\\"functionName\\\": \\\"Image.select\\\", \\\"arguments\\\": {\\\"bandSelectors\\\": {\\\"constantValue\\\": [\\\"elevation\\\"]}, \\\"input\\\": {\\\"functionInvocationValue\\\": {\\\"functionName\\\": \\\"Image.load\\\", \\\"arguments\\\": {\\\"id\\\": {\\\"constantValue\\\": \\\"USGS/NED\\\"}}}}}}}}}\", \"eeTerrainObject\": \"{\\\"result\\\": \\\"0\\\", \\\"values\\\": {\\\"0\\\": {\\\"functionInvocationValue\\\": {\\\"functionName\\\": \\\"Image.select\\\", \\\"arguments\\\": {\\\"bandSelectors\\\": {\\\"constantValue\\\": [\\\"elevation\\\"]}, \\\"input\\\": {\\\"functionInvocationValue\\\": {\\\"functionName\\\": \\\"Image.load\\\", \\\"arguments\\\": {\\\"id\\\": {\\\"constantValue\\\": \\\"USGS/NED\\\"}}}}}}}}}\", \"id\": \"EETerrainLayer\", \"visParams\": {\"max\": 4000, \"min\": 0, \"palette\": [\"006633\", \"E5FFCC\", \"662A00\", \"D8D8D8\", \"F5F5F5\"]}}], \"mapProvider\": \"carto\", \"mapStyle\": \"https://basemaps.cartocdn.com/gl/dark-matter-gl-style/style.json\", \"views\": [{\"@@type\": \"MapView\", \"controller\": true}]}",
            "google_maps_key": null,
            "_view_module": "@deck.gl/jupyter-widget",
            "_model_module_version": "~8.5.*",
            "tooltip": true,
            "_view_count": null,
            "width": "100%",
            "_view_module_version": "~8.5.*",
            "layout": "IPY_MODEL_6e553a2ed22d4c09b332cd7f34c8f793",
            "height": 500,
            "_model_module": "@deck.gl/jupyter-widget"
          }
        }
      }
    }
  },
  "nbformat": 4,
  "nbformat_minor": 0
}